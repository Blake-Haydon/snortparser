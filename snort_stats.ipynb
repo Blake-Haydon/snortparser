{
 "cells": [
  {
   "cell_type": "code",
   "execution_count": 11,
   "metadata": {},
   "outputs": [],
   "source": [
    "from snortparser import Parser"
   ]
  },
  {
   "cell_type": "code",
   "execution_count": 12,
   "metadata": {},
   "outputs": [
    {
     "name": "stdout",
     "output_type": "stream",
     "text": [
      "ERROR (rule skipped): Snort rule header is malformed ['alert', 'http']\n",
      "ERROR (rule skipped): Snort rule header is malformed ['alert', 'http']\n",
      "ERROR (rule skipped): Snort rule header is malformed ['alert', 'http']\n",
      "ERROR (rule skipped): Snort rule header is malformed ['alert', 'http']\n",
      "ERROR (rule skipped): Snort rule header is malformed ['alert', 'ssl']\n",
      "ERROR (rule skipped): Snort rule header is malformed ['alert', 'ssl']\n"
     ]
    }
   ],
   "source": [
    "# Read snort file\n",
    "filename = \"snort3-community.rules\"\n",
    "with open(filename) as f:\n",
    "    rules = f.readlines()\n",
    "\n",
    "# Generate stats\n",
    "num_rules = 0\n",
    "pcre_strings = []\n",
    "for rule in rules:\n",
    "    try:\n",
    "        parsed = Parser(rule) # parsing can fail\n",
    "        num_rules += 1\n",
    "\n",
    "        # Get PCRE strings\n",
    "        for i in parsed.options:\n",
    "            if parsed.options[i][0] == 'pcre':\n",
    "                pcre_strings.append(parsed.options[i][1])\n",
    "\n",
    "    except Exception as e:\n",
    "        print(f\"ERROR (rule skipped): {e}\")"
   ]
  },
  {
   "cell_type": "code",
   "execution_count": 13,
   "metadata": {},
   "outputs": [
    {
     "name": "stdout",
     "output_type": "stream",
     "text": [
      "Snort file: 'snort3-community.rules'\n",
      "Number of rules: 4025\n",
      "Number of PCRE strings: 1087\n",
      "Number of unique PCRE strings: 716\n",
      "Percentage of PCRE rules out of all rules: 27.01%\n"
     ]
    }
   ],
   "source": [
    "print(f\"Snort file: '{filename}'\")\n",
    "print(f\"Number of rules: {num_rules}\")\n",
    "print(f\"Number of PCRE strings: {len(pcre_strings)}\")\n",
    "print(f\"Number of unique PCRE strings: {len(set(pcre_strings))}\")\n",
    "print(f\"Percentage of PCRE rules out of all rules: {len(pcre_strings) / num_rules * 100:.2f}%\")"
   ]
  },
  {
   "cell_type": "code",
   "execution_count": 14,
   "metadata": {},
   "outputs": [
    {
     "name": "stdout",
     "output_type": "stream",
     "text": [
      "INFO: Writing unique PCRE strings to file 'snort_pcre_strings.txt'\n"
     ]
    }
   ],
   "source": [
    "print(\"INFO: Writing unique PCRE strings to file 'snort_pcre_strings.txt'\")\n",
    "with open(\"snort_pcre_strings.txt\", \"w\") as f:\n",
    "    for i in set(pcre_strings):\n",
    "        f.write(i + \"\\n\")"
   ]
  }
 ],
 "metadata": {
  "kernelspec": {
   "display_name": "Python 3",
   "language": "python",
   "name": "python3"
  },
  "language_info": {
   "codemirror_mode": {
    "name": "ipython",
    "version": 3
   },
   "file_extension": ".py",
   "mimetype": "text/x-python",
   "name": "python",
   "nbconvert_exporter": "python",
   "pygments_lexer": "ipython3",
   "version": "3.10.4"
  },
  "orig_nbformat": 4,
  "vscode": {
   "interpreter": {
    "hash": "2ab98c4b59af728aa8bd9922870b996a7fc5861c87b81242319b92eec59b5fef"
   }
  }
 },
 "nbformat": 4,
 "nbformat_minor": 2
}
